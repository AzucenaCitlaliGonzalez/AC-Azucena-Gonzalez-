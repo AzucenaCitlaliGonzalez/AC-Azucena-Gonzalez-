{
 "cells": [
  {
   "cell_type": "markdown",
   "id": "4f3bb035",
   "metadata": {},
   "source": [
    "# Condicionales y control de flujo\n",
    "\n",
    "Una aplicación extremadamente valiosa de los datos de tipo Booleano, introducidos en el _notebook_ [`1.5-Operaciones_lógicas_y_valores_booleanos.ipynb`](./1.5-Operaciones_lógicas_y_valores_booleanos.ipynb), es en la creación de declaraciones condicionales."
   ]
  },
  {
   "cell_type": "markdown",
   "id": "f5519167",
   "metadata": {},
   "source": [
    "## Condicionales\n",
    "\n",
    "### Declaraciones `if` (_if statements_)\n",
    "\n",
    "Al momento de escribir programas, es útil poder ejecutar algunos comandos especiales _sólo si se cumplen ciertas condiciones_. La manera de hacer esto es con declaraciones _condicionales_; las más sencillas son del tipo\n",
    "\n",
    "$$\\textit{si sucede 'x', entonces haz 'y'}.$$\n",
    "\n",
    "Un ejemplo de una declaración de este tipo en Julia es el siguiente:"
   ]
  },
  {
   "cell_type": "code",
   "execution_count": 44,
   "id": "391fd507",
   "metadata": {},
   "outputs": [],
   "source": [
    "v = 1\n",
    "\n",
    "if v > 2\n",
    "    \n",
    "    println(\"¡Lo lograste!\")\n",
    "    \n",
    "end"
   ]
  },
  {
   "cell_type": "markdown",
   "id": "49be1ec6",
   "metadata": {},
   "source": [
    "Observa que, si ejecutas la celda anterior, no ocurre nada. Esto es porque la condición `v > 1` **no se cumple**.\n",
    "\n",
    "**Ejercicio** Cambia **sólo un símbolo** (letra, número, operador, etc) de la celda anterior de tal forma que obtengas algo en la salida (Hay dos maneras diferentes de hacerlo). Después, comenta el código de la celda anterior."
   ]
  },
  {
   "cell_type": "code",
   "execution_count": 45,
   "id": "d960971b",
   "metadata": {},
   "outputs": [
    {
     "name": "stdout",
     "output_type": "stream",
     "text": [
      "¡Lo lograste!\n"
     ]
    }
   ],
   "source": [
    "v = 3 #En este caso se cambió el valor de la variable para que cumpla la condición \n",
    "\n",
    "if v > 2\n",
    "    \n",
    "    println(\"¡Lo lograste!\")\n",
    "    \n",
    "end"
   ]
  },
  {
   "cell_type": "code",
   "execution_count": 46,
   "id": "1b304e81",
   "metadata": {},
   "outputs": [
    {
     "name": "stdout",
     "output_type": "stream",
     "text": [
      "¡Lo lograste!\n"
     ]
    }
   ],
   "source": [
    "v = 1\n",
    "\n",
    "if v > 0 #Para este caso se cambió la condición para que la variable la cumpla\n",
    "    \n",
    "    println(\"¡Lo lograste!\")\n",
    "    \n",
    "end"
   ]
  },
  {
   "cell_type": "code",
   "execution_count": 47,
   "id": "ababa454",
   "metadata": {},
   "outputs": [
    {
     "name": "stdout",
     "output_type": "stream",
     "text": [
      "¡Lo lograste!\n"
     ]
    }
   ],
   "source": [
    "v = 1\n",
    "\n",
    "if v < 2 #En el tercer caso se cambió el operador \n",
    "    \n",
    "    println(\"¡Lo lograste!\")\n",
    "    \n",
    "end"
   ]
  },
  {
   "cell_type": "code",
   "execution_count": 48,
   "id": "373fa3e5",
   "metadata": {},
   "outputs": [
    {
     "ename": "LoadError",
     "evalue": "syntax: unexpected \"=\"",
     "output_type": "error",
     "traceback": [
      "syntax: unexpected \"=\"",
      "",
      "Stacktrace:",
      " [1] top-level scope",
      "   @ In[48]:3"
     ]
    }
   ],
   "source": [
    "v = 1\n",
    "\n",
    "if v = 2 #No se puso un operador lo que nos da un error como salida \n",
    "    \n",
    "    println(\"¡Lo lograste!\")\n",
    "    \n",
    "end"
   ]
  },
  {
   "cell_type": "markdown",
   "id": "902741df",
   "metadata": {},
   "source": [
    "Las declaraciones condicionales como la del ejemplo anterior se conocen como declaraciones `if`, pues esta palabra significa \"si\" en inglés. La sintáxis general de una declaración `if` en Julia (traducida al español) es:\n",
    "\n",
    "$\\color{green}{\\textbf{si}} \\ \\ \\text{condición}$\n",
    "\n",
    "$\\quad \\quad \\text{entonces...}$\n",
    "\n",
    "$\\color{green}{\\textbf{fin}}$\n",
    "\n",
    "donde $\\text{entonces...}$ es todo el código que se encuentre _debajo_ de la condición y _arriba_ de $\\color{green}{\\text{fin}}$. La idea básica de una declaración `if` es: si, al ejecutar el código, la expresión $\\text{condición}$ se evalúa a `true`, se ejecutará el bloque de código $\\text{entonces...}$.\n",
    "\n",
    "**Ejercicio** Escribe una celda de código en donde se defina una variable y:\n",
    "* si la variable es mayor que cinco, devuelva la frase _mayor que cinco_;\n",
    "* si la variable es menor o igual que cinco, devuelva la frase _menor o igual que cinco_.\n",
    "\n",
    "(Pista: utiliza dos declaraciones `if`.)"
   ]
  },
  {
   "cell_type": "code",
   "execution_count": 49,
   "id": "7b831d63",
   "metadata": {},
   "outputs": [
    {
     "name": "stdout",
     "output_type": "stream",
     "text": [
      "Menor o igual que cinco\n"
     ]
    }
   ],
   "source": [
    "# Tu código (comentado) va aquí :D\n",
    "\n",
    "y = -1\n",
    "\n",
    "if y > 5 #Se presenta la primera condición (que y sea menor que 5) en caso de que ´y´ cumpla esta condición entonces se imprimirá la frase \"Mayor que cinco\".  \n",
    "    \n",
    "    println(\"Mayor que cinco\")\n",
    "    \n",
    "end\n",
    "\n",
    "#Notese que al ser dos condiciones, entonces se usaron 2 declaraciones if no anidadas, por tanto, si en la primera no se cumple la condición, entonces se evalúa la siguiente condición. \n",
    "if y <= 5\n",
    "    \n",
    "    println(\"Menor o igual que cinco\")\n",
    "    \n",
    "end"
   ]
  },
  {
   "cell_type": "markdown",
   "id": "b5b381a9",
   "metadata": {},
   "source": [
    "**Ejercicio** Crea una nueva celda con un código que haga lo mismo que en el ejercicio anterior, pero **sólo** si la variable es de tipo `Int64`. Para hacerlo, primero escribe un **diagrama de flujo**\n",
    "(Pista: ¡el bloque de código $\\text{entonces...}$ en una declaración condicional puede, en particular, contener más declaraciones `if`!)"
   ]
  },
  {
   "cell_type": "code",
   "execution_count": 1,
   "id": "2e625431",
   "metadata": {},
   "outputs": [],
   "source": [
    "# Tu código (comentado) va aquí :D\n",
    "\n",
    "y = 1//3\n",
    "\n",
    "\n",
    "x = typeof(y)                          #Declaramos una nueva variable que nos diga que tipo de dato es \"y\"\n",
    "\n",
    "if x == Int64                          #Si x cumple la condición de ser Int64 entonces procedes se ejecuta la siguiente línea \n",
    "    \n",
    "    if y > 5                           #Ahora debido a que se cumplió la condición anterior, entonces el programa comprueba que se cumpla la nueva condición \n",
    "                                       #de la siguiente declaración \"y mayor que cinco\", si no se cumple entonces el programa ejecutará la siguiente declaración \n",
    "    \n",
    "        println(\"Mayor que cinco\")\n",
    "    \n",
    "    end\n",
    "\n",
    "\n",
    "    if y <= 5\n",
    "    \n",
    "        println(\"Menor o igual que cinco\")\n",
    "    \n",
    "    end                                #Dependiendo de la condición que haya obtenido \"y\" es la salida que se tendrá\n",
    "end\n",
    "\n",
    "#Notese que si no se cumple la primera condición, entonces es inmediato que las siguientes tampoco se cumplirán, pues estas \n",
    "#dependen de la primera, por ello si \"y\" no es del tipo Int64 entonces no se tendrá ninguna salida."
   ]
  },
  {
   "cell_type": "markdown",
   "id": "6536eb3b",
   "metadata": {},
   "source": [
    "### Declaraciones `if-else` (_if-else statements_)\n",
    "\n",
    "Después de haber hecho los ejercicios de la sección anterior, quizá habrás notado que, en el penúltimo ejercicio, la condición sobre la variable que definiste que da como resultado la frase _menor o igual que cinco_ es la **negación** de la condición que da como resultado _mayor que cinco_, por lo que pudimos haber escrito las declaraciones condicionales (ahora sí, en inglés) de esta forma:\n",
    "\n",
    "$\\color{green}{\\textbf{if }} \\text{condition}$\n",
    "\n",
    "$\\quad \\quad \\text{then...}$\n",
    "\n",
    "$\\color{green}{\\textbf{end}}$\n",
    "\n",
    "$\\color{green}{\\textbf{if}} \\ \\ \\color{magenta}{\\textbf{! }}\\text{condition}$\n",
    "\n",
    "$\\quad \\quad \\text{then...}$\n",
    "\n",
    "$\\color{green}{\\textbf{end}}$\n",
    "\n",
    "Dado que cuando programamos es extremadamente común querer verificar una condición y, además de ejecutar cierto código si se verifica, tener un código alternativo a ejecutar si **no** se verifica, suele haber una forma más sencilla de escribir esto. En Julia se utiliza `else`, pues esta palabra significa \"si no/en caso contrario/de otro modo\" en inglés, y las declaraciones condicionales de este tipo se conocen como `if/else`. La sintáxis general de una declaración `if-else` en Julia es:\n",
    "\n",
    "$\\color{green}{\\textbf{if}} \\ \\ \\text{condition}$\n",
    "\n",
    "$\\quad \\quad \\text{then...}$\n",
    "\n",
    "$\\color{green}{\\textbf{else}}$\n",
    "\n",
    "$\\quad \\quad \\text{alternative...}$\n",
    "\n",
    "$\\color{green}{\\textbf{end}}$\n",
    "\n",
    "La idea básica de una declaración `if-else` es: si, al ejecutar el código, la expresión $\\text{condition}$ se evalúa a `true`, se ejecutará el bloque de código $\\text{then...}$ mientras que, si se evalúa a `false`, se ejecutará el bloque de código $\\text{alternative...}$ ¿ves lo útiles que se han vuelto los valores Booleanos tan pronto?\n",
    "\n",
    "**Ejercicio** Reescribe tu solución del penúltimo ejercicio de la sección **Declaraciones `if` (_if statements_)** utilizando una declaración `if-else`."
   ]
  },
  {
   "cell_type": "code",
   "execution_count": 3,
   "id": "8693273d",
   "metadata": {},
   "outputs": [
    {
     "name": "stdout",
     "output_type": "stream",
     "text": [
      "Menor o igual que cinco\n"
     ]
    }
   ],
   "source": [
    "# Tu código (comentado) va aquí:\n",
    "\n",
    "y = 2\n",
    "\n",
    "x = typeof(y)                          #Declaramos una nueva variable \"x\" que nos diga que tipo de dato es \"y\"\n",
    "\n",
    "    if x == Int64                          #Si x cumple la condición de ser Int64 entonces procedes se ejecuta la siguiente línea de codigo\n",
    "    \n",
    "        if y > 5                           #Como en este caso se usó If-else, solo es necesario colocar una condición ya sea y <= 5 ó y > 5, pues else será el caso contrario a if) \n",
    "    \n",
    "            println(\"Mayor que cinco\")\n",
    "\n",
    "\n",
    "        else                              #Notese que else no tiene ninguna condición, pues  if tiene la condicion y > 5 entonces en automático else será lo contrario o sea y <= 5\n",
    "    \n",
    "            println(\"Menor o igual que cinco\")\n",
    "    \n",
    "        end                                #Dependiendo de la condición que haya obtenido \"y\" es la salida que se tendrá\n",
    "    end\n",
    "\n",
    "#Notese que si no se cumple la primera condición, entonces es inmediato que las siguientes tampoco se cumplirán, pues estas \n",
    "#dependen de la primera, por ello si \"y\" no es del tipo Int64 entonces no se tendrá alguna salida.\n",
    "\n"
   ]
  },
  {
   "cell_type": "markdown",
   "id": "7ca8551f",
   "metadata": {},
   "source": [
    "**Ejercicio adicional** Se realizó el mismo ejercicio pero con funciones "
   ]
  },
  {
   "cell_type": "code",
   "execution_count": 4,
   "id": "5660bbbc",
   "metadata": {},
   "outputs": [
    {
     "data": {
      "text/plain": [
       "MayoroMenorIgual5 (generic function with 1 method)"
      ]
     },
     "execution_count": 4,
     "metadata": {},
     "output_type": "execute_result"
    }
   ],
   "source": [
    "#Como dato extra, hay otra forma de realizar la misma funcion, pero usando la sintaxis 𝐟𝐮𝐧𝐜𝐭𝐢𝐨𝐧 nombre(parámetro::TipoDeDato)\n",
    "\n",
    "function MayoroMenorIgual5(y::Int64)   #Decidi hacerlo función, puesto que así puedo llamarla cuando la necesite\n",
    "\n",
    "\n",
    "                                       #Si x cumple la condición de ser Int64 entonces procedes se ejecuta la siguiente línea de codigo\n",
    "    \n",
    "    if y > 5                           #Como en este caso se usó If-else, solo es necesario colocar una condición ya sea y <= 5 ó y > 5, pues else será el caso contrario a if) \n",
    "    \n",
    "        println(\"Mayor que cinco\")\n",
    "\n",
    "\n",
    "    else                               #Notese que else no tiene ninguna condición, pues  if tiene la condicion y > 5 entonces en automático else será lo contrario o sea y <= 5\n",
    "\n",
    "         println(\"Menor o igual que cinco\")\n",
    "    \n",
    "    end                                #Dependiendo de la condición que haya obtenido \"y\" es la salida que se tendrá\n",
    "    \n",
    " end\n",
    "\n",
    "\n",
    "#Notese que si no se cumple la primera condición, entonces es inmediato que las siguientes tampoco se cumplirán, pues estas \n",
    "#dependen de la primera, por ello si \"y\" no es del tipo Int64 entonces la función arrojará nada. \n"
   ]
  },
  {
   "cell_type": "code",
   "execution_count": 5,
   "id": "4694dfd0",
   "metadata": {},
   "outputs": [
    {
     "name": "stdout",
     "output_type": "stream",
     "text": [
      "Menor o igual que cinco\n",
      "Menor o igual que cinco\n",
      "Mayor que cinco\n"
     ]
    }
   ],
   "source": [
    "MayoroMenorIgual5(4)\n",
    "MayoroMenorIgual5(5)\n",
    "MayoroMenorIgual5(6)"
   ]
  },
  {
   "cell_type": "markdown",
   "id": "4cd9e396",
   "metadata": {},
   "source": [
    "Obsérvese que al llamar a la función con un parámetro que no sea del tipo `Int64` esta arrojara un error"
   ]
  },
  {
   "cell_type": "code",
   "execution_count": 7,
   "id": "805f5aa5",
   "metadata": {},
   "outputs": [
    {
     "ename": "LoadError",
     "evalue": "MethodError: no method matching MayoroMenorIgual5(::Float64)\n\u001b[0mClosest candidates are:\n\u001b[0m  MayoroMenorIgual5(\u001b[91m::Int64\u001b[39m) at In[4]:3",
     "output_type": "error",
     "traceback": [
      "MethodError: no method matching MayoroMenorIgual5(::Float64)\n\u001b[0mClosest candidates are:\n\u001b[0m  MayoroMenorIgual5(\u001b[91m::Int64\u001b[39m) at In[4]:3",
      "",
      "Stacktrace:",
      " [1] top-level scope",
      "   @ In[7]:1"
     ]
    }
   ],
   "source": [
    "MayoroMenorIgual5(4.7)"
   ]
  },
  {
   "cell_type": "markdown",
   "id": "282bc240",
   "metadata": {},
   "source": [
    "### Declaraciones `if-elseif-else` (_if-elseif-else statements_)\n",
    "\n",
    "Existe otra situación recurrente cuando queremos programar en función de que se cumplan o no ciertas condiciones: esto es cuando, más allá de sólo querer verificar si **una** condición **se cumple o no**, queremos verificar si **alguna de varias** condiciones se cumple, especificar **para cada una de ellas** qué sucederá si se llega a cumplir, y especificar que sucederá si **ninguna** de ellas se cumple. Con lo que sabemos, podríamos escribir un proceso así como:\n",
    "\n",
    "$\\color{green}{\\textbf{if}} \\ \\ \\text{condition1}$\n",
    "\n",
    "$\\quad \\quad \\text{then}1...$\n",
    "\n",
    "$\\color{green}{\\textbf{else}}$\n",
    "\n",
    "$\\quad \\quad \\color{green}{\\textbf{if}} \\ \\ \\text{condition2}$\n",
    "\n",
    "$\\quad \\quad \\quad \\quad \\text{then}2...$\n",
    "\n",
    "$\\quad \\quad \\color{green}{\\textbf{else}}$\n",
    "\n",
    "$\\quad \\quad \\quad \\quad \\color{green}{\\textbf{if}} \\ \\ \\text{condition3}$\n",
    "\n",
    "$\\quad \\quad \\quad \\quad \\quad \\quad \\text{then}3...$\n",
    "\n",
    "$\\quad \\quad \\quad \\quad \\color{green}{\\textbf{else}}$\n",
    "\n",
    "$\\quad \\quad \\quad \\quad \\quad \\quad \\quad \\quad \\quad \\quad \\dots$\n",
    "\n",
    "$\\quad \\quad \\quad \\quad \\quad \\quad \\quad \\quad \\quad \\quad \\quad \\quad \\color{green}{\\textbf{if}} \\ \\ \\text{condition}n$\n",
    "\n",
    "$\\quad \\quad \\quad \\quad \\quad \\quad \\quad \\quad \\quad \\quad \\quad \\quad \\quad \\quad \\text{then}n...$\n",
    "\n",
    "$\\quad \\quad \\quad \\quad \\quad \\quad \\quad \\quad \\quad \\quad \\quad \\quad \\color{green}{\\textbf{else}}$\n",
    "\n",
    "$\\quad \\quad \\quad \\quad \\quad \\quad \\quad \\quad \\quad \\quad \\quad \\quad \\quad \\quad \\text{alternative...}$\n",
    "\n",
    "$\\quad \\quad \\quad \\quad \\quad \\quad \\quad \\quad \\quad \\quad \\quad \\quad \\color{green}{\\textbf{end}}$\n",
    "\n",
    "$\\quad \\quad \\quad \\quad \\quad \\quad \\quad \\quad \\quad \\quad \\dots$\n",
    "\n",
    "$\\quad \\quad \\quad \\quad \\color{green}{\\textbf{end}}$\n",
    "\n",
    "$\\quad \\quad \\color{green}{\\textbf{end}}$\n",
    "\n",
    "$\\color{green}{\\textbf{end}}$\n",
    "\n",
    "En este caso, el bloque de código que se ejecutará si **ninguna** de las condiciones de las declaraciones `if` se cumple es $\\text{alternative...}$. \n",
    "\n",
    "Las \"cascadas\" de declaraciones `if-else` anidadas como la anterior a menudo no son fáciles de entender a simple vista, lo cual complica poder programar procesos de este tipo. Afortunadamente, en Julia, existe una manera de simplificar este tipo de expresiones, utilizando `elseif` para decir \"si no se cumple la condición anterior, entonces si se cumple esta nueva condición...\"; las declaraciones condicionales de este tipo se conocen como declaraciones `if-elseif-else`, y la sintáxis general de una declaración de este tipo en Julia es:\n",
    "\n",
    "$\\color{green}{\\textbf{if}} \\ \\ \\text{condition1}$\n",
    "\n",
    "$\\quad \\quad \\text{then}1...$\n",
    "\n",
    "$\\color{green}{\\textbf{elseif}} \\ \\ \\text{condition2}$\n",
    "\n",
    "$\\quad \\quad \\text{then}2...$\n",
    "\n",
    "...\n",
    "\n",
    "$\\color{green}{\\textbf{elseif}} \\ \\ \\text{condition}n$\n",
    "\n",
    "$\\quad \\quad \\text{then}n...$\n",
    "\n",
    "$\\color{green}{\\textbf{else}}$\n",
    "\n",
    "$\\quad \\quad \\text{alternative...}$\n",
    "\n",
    "$\\color{green}{\\textbf{end}}$\n",
    "\n",
    "Esto es equivalente a la \"cascada\" de declaraciones `if` anidadas anterior, por lo que logra el mismo propósito ¡pero siendo mucho más manejable!\n",
    "\n",
    "**Nota** _¡No todos los lenguajes de programación tienen algo parecido a `elseif`!_ por lo que,  en muchos otros, en la práctica se tienen que anidar varias declaraciones `if` \"en cascada\" bajo una declaración `if` básica (cuya verificación sea un requisito previo a todas las declaraciones anidadas) para lograr un efecto parecido."
   ]
  },
  {
   "cell_type": "markdown",
   "id": "4a5bbad4",
   "metadata": {},
   "source": [
    "**Ejercicio** Escribe un código en donde defines una variable y, sólo si la variable es de tipo `Int64`, devuelva la palabra _positivo_, _negativo_ o _cero_ dependiendo de si el número de tipo entero es positivo, negativo o cero, respectivamente."
   ]
  },
  {
   "cell_type": "code",
   "execution_count": 62,
   "id": "b4998456",
   "metadata": {},
   "outputs": [
    {
     "name": "stdout",
     "output_type": "stream",
     "text": [
      "y = 0, y es el numero es cero\n"
     ]
    }
   ],
   "source": [
    "# Tu código (comentado) va aquí :D\n",
    "\n",
    "y = 0\n",
    "\n",
    "x = typeof(y)\n",
    "\n",
    "if x == Int64                                           #Se colocó primero una declaracion if, la cual condiciona a \"y\" a \n",
    "                                                        #ser del tipo Int64\n",
    "    \n",
    "    if y > 0\n",
    "        \n",
    "        println(\"y = $y, y es un numero negativo\")      #Posteriormente se emplearon declaraciones if-elseif-else con las tres \n",
    "                                                        #condiciones necesarias, if: y < 0 (negativo), elseif: y > 0 (positivo)   \n",
    "    \n",
    "    elseif y < 0\n",
    "        \n",
    "        println(\"y = $y, y es un numero positivo\")\n",
    "        \n",
    "    else\n",
    "    \n",
    "        println(\"y = $y, y es el numero es cero\")       #Nosete que para else no se coloco una condicion debido a que en \n",
    "                                                        #automatico es la negacion de las condiciones anteriores, por ende \n",
    "                                                        #else es el caso contrario de if y elseif, else: y = 0 \n",
    "    \n",
    "    end\n",
    "\n",
    "end"
   ]
  },
  {
   "cell_type": "markdown",
   "id": "e3f38c91",
   "metadata": {},
   "source": [
    "Una observación **crucial** sobre las declaraciones `if-elseif-else` en Julia es que **las condiciones se verifican secuencialmente de arriba hacia abajo** y que **las declaraciones `if-elseif-else` terminan de ejecutarse en cuanto una de las condiciones se verifica**. En efecto, todo esto se puede deducir a partir del **diagrama de flujo** de las declaraciones `if-elseif-else` en Julia o, equivalentemente, recordando que estas declaraciones son equivalentes a anidar muchas declaraciones `if-else` \"en cascada\".\n",
    "\n",
    "Una consecuencia de esto es que, si escribimos una declaración `if-elseif-else` en la que una **misma** condición aparece **varias veces**, sólo se ejecutará el bloque de código que se encuentra debajo de **la primera vez** que aparece dicha condición. Por lo tanto, siempre que utilicemos este tipo de declaraciones condicionales, hay que **tener cuidado en cómo ordenamos nuestras condiciones** y **verificar que todas ellas funcionen correctamente**."
   ]
  },
  {
   "cell_type": "markdown",
   "id": "a8fa594d",
   "metadata": {},
   "source": [
    "Una observación útil es que ¡podemos utilizar declaraciones condicionales para definir funciones!\n",
    "\n",
    "**Ejercicio** Define una función llamada `Entero_o_flotante` que tome una variable numérica y devuelva la frase:\n",
    "* _¡Es de tipo entero!_ si el número es de tipo `Int64`;\n",
    "* _¡Es de punto flotante!_ si el número es de tipo `Float64`;\n",
    "* _¡No sé qué es!_ si ninguna de las condiciones anteriores se cumple.\n",
    "\n",
    "de tal forma que, si la variable introducida no es numérica, **marque un error** (Sugerencia: Usa [la documentación de Julia](https://docs.julialang.org/en/v1/base/numbers/) como referencia y utiliza operadores lógicos y paréntesis en las condiciones que lo requieran)."
   ]
  },
  {
   "cell_type": "code",
   "execution_count": 69,
   "id": "30c46ba8",
   "metadata": {},
   "outputs": [
    {
     "data": {
      "text/plain": [
       "Entero_o_flotante (generic function with 1 method)"
      ]
     },
     "execution_count": 69,
     "metadata": {},
     "output_type": "execute_result"
    }
   ],
   "source": [
    "# Tu código comentado va aquí :D\n",
    "\n",
    "function Entero_o_flotante(y)                     # \"y\" es el parámetro de la función que puede ser de cualquier tipo de dato.\n",
    "    \n",
    "    x = typeof(y)                                 #Se definió la variable \"x\" para catalogar a \"y\" en Int64, Float64 u otro con \n",
    "                                                  #ayuda de la función typeof() la cual indica el tipo de dato del parámetro insertado. \n",
    "    \n",
    "    if x == Int64                                 #La primera condición se cumple cuando \"y\" es del tipo entero, o sea cuando x = Int64\n",
    "        \n",
    "        println(\"$y ¡Es de tipo entero! \") \n",
    "    \n",
    "    elseif x == Float64                          #En este caso elseif tiene la condición de que x = Float64, o sea que \"y\" tiene que ser un flotante\n",
    "        \n",
    "        println(\"$y ¡Es de punto flotante! \")\n",
    "        \n",
    "    else                                         #El programa ejecutará a else si no se cumplen las condiciones anteriores o sea \n",
    "                                                 #que \"y\" no será del tipo Float64 o Int64\n",
    "        \n",
    "        println(\"$y ¡No sé qué es! \")\n",
    "    \n",
    "    end\n",
    "\n",
    "    \n",
    "end \n",
    "        "
   ]
  },
  {
   "cell_type": "markdown",
   "id": "68927b5c",
   "metadata": {},
   "source": [
    "A continuación se muestran las diferentes salidas que nos arroja la función Entero_o_flotante(y) definiendo diferentes parámetros. "
   ]
  },
  {
   "cell_type": "code",
   "execution_count": 70,
   "id": "b422187d",
   "metadata": {},
   "outputs": [
    {
     "name": "stdout",
     "output_type": "stream",
     "text": [
      "3 ¡Es de tipo entero! \n",
      "3.0 ¡Es de punto flotante! \n",
      "3//1 ¡No sé qué es! \n"
     ]
    }
   ],
   "source": [
    "Entero_o_flotante(3)\n",
    "Entero_o_flotante(3.0)\n",
    "Entero_o_flotante(3//1)"
   ]
  }
 ],
 "metadata": {
  "kernelspec": {
   "display_name": "Julia 1.8.5",
   "language": "julia",
   "name": "julia-1.8"
  },
  "language_info": {
   "file_extension": ".jl",
   "mimetype": "application/julia",
   "name": "julia",
   "version": "1.8.5"
  }
 },
 "nbformat": 4,
 "nbformat_minor": 5
}
